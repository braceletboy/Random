{
 "cells": [
  {
   "cell_type": "markdown",
   "metadata": {},
   "source": [
    "# Cohort Analysis"
   ]
  },
  {
   "cell_type": "code",
   "execution_count": 2,
   "metadata": {},
   "outputs": [],
   "source": [
    "import pandas as pd\n",
    "import matplotlib.pyplot as plt\n",
    "import seaborn as sns"
   ]
  },
  {
   "cell_type": "markdown",
   "metadata": {},
   "source": [
    "## Import data"
   ]
  },
  {
   "cell_type": "code",
   "execution_count": 3,
   "metadata": {},
   "outputs": [],
   "source": [
    "datafile = './search_cohort_raw.csv'\n",
    "data = pd.read_csv(datafile)"
   ]
  },
  {
   "cell_type": "markdown",
   "metadata": {},
   "source": [
    "## Find Initial Visit"
   ]
  },
  {
   "cell_type": "code",
   "execution_count": 4,
   "metadata": {},
   "outputs": [
    {
     "name": "stdout",
     "output_type": "stream",
     "text": [
      "           cohort        date                           user_id\n",
      "0      2020-07-23  2020-07-23  002b74eac2cc17ed73924292af0c23f7\n",
      "1      2020-07-23  2020-07-24  002b74eac2cc17ed73924292af0c23f7\n",
      "2      2020-07-27  2020-07-27  008281f5fc74d8e48bc5943da22cb40c\n",
      "3      2020-07-27  2020-07-28  008281f5fc74d8e48bc5943da22cb40c\n",
      "4      2020-07-22  2020-07-22  009c33ce2d02aa8acaafc205eaf50a66\n",
      "...           ...         ...                               ...\n",
      "74183  2020-07-23  2020-07-23  fffeccf0cc61a3b9baf15ebf6edb59c9\n",
      "74184  2020-07-23  2020-07-24  fffeccf0cc61a3b9baf15ebf6edb59c9\n",
      "74185  2020-07-23  2020-07-25  fffeccf0cc61a3b9baf15ebf6edb59c9\n",
      "74186  2020-07-23  2020-07-26  fffeccf0cc61a3b9baf15ebf6edb59c9\n",
      "74187  2020-07-23  2020-07-27  fffeccf0cc61a3b9baf15ebf6edb59c9\n",
      "\n",
      "[74188 rows x 3 columns]\n"
     ]
    }
   ],
   "source": [
    "# group data w.r.t user id\n",
    "# index conversion useful for mapping first visits to user id\n",
    "data.set_index('user_id', inplace=True)\n",
    "user_grouped_data = data.groupby(by='user_id')\n",
    "first_visits = user_grouped_data['date'].min()\n",
    "\n",
    "# add first visits to the dataframe\n",
    "# each different first visit day corresponds to a different cohort\n",
    "data['cohort'] = first_visits\n",
    "data.reset_index(inplace=True)\n",
    "data = data.reindex(columns=['cohort', 'date', 'user_id'])\n",
    "print(data)"
   ]
  },
  {
   "cell_type": "markdown",
   "metadata": {},
   "source": [
    "## Build Cohorts"
   ]
  },
  {
   "cell_type": "code",
   "execution_count": 5,
   "metadata": {},
   "outputs": [
    {
     "name": "stdout",
     "output_type": "stream",
     "text": [
      "                       user_count\n",
      "cohort     date                  \n",
      "2020-07-22 2020-07-22        8355\n",
      "           2020-07-23        4081\n",
      "           2020-07-24        3051\n",
      "           2020-07-25        3131\n",
      "           2020-07-26        2922\n",
      "           2020-07-27        2749\n",
      "           2020-07-28        2319\n",
      "           2020-07-29        2024\n",
      "2020-07-23 2020-07-23        4882\n",
      "           2020-07-24        2050\n",
      "           2020-07-25        1876\n",
      "           2020-07-26        1773\n",
      "           2020-07-27        1468\n",
      "           2020-07-28        1256\n",
      "           2020-07-29        1053\n",
      "2020-07-24 2020-07-24        3559\n",
      "           2020-07-25        1744\n",
      "           2020-07-26        1350\n",
      "           2020-07-27        1113\n",
      "           2020-07-28         964\n",
      "           2020-07-29         790\n",
      "2020-07-25 2020-07-25        3630\n",
      "           2020-07-26        2059\n",
      "           2020-07-27        1455\n",
      "           2020-07-28        1100\n",
      "           2020-07-29         904\n",
      "2020-07-26 2020-07-26        2651\n",
      "           2020-07-27        1584\n",
      "           2020-07-28        1086\n",
      "           2020-07-29         854\n",
      "2020-07-27 2020-07-27        1836\n",
      "           2020-07-28        1304\n",
      "           2020-07-29         839\n",
      "2020-07-28 2020-07-28        1188\n",
      "           2020-07-29        1188\n"
     ]
    }
   ],
   "source": [
    "grouped_data = data.groupby(by=['cohort', 'date'])\n",
    "cohorted_data = grouped_data.aggregate(\n",
    "    {'user_id': pd.Series.nunique})  # returns a dataframe\n",
    "cohorted_data.rename(columns={'user_id': 'user_count'}, inplace=True)\n",
    "print(cohorted_data)"
   ]
  },
  {
   "cell_type": "markdown",
   "metadata": {},
   "source": [
    "## Convert to Table Form"
   ]
  },
  {
   "cell_type": "code",
   "execution_count": 6,
   "metadata": {},
   "outputs": [
    {
     "name": "stdout",
     "output_type": "stream",
     "text": [
      "           user_count                                                        \n",
      "day                 1       2       3       4       5       6       7       8\n",
      "cohort                                                                       \n",
      "2020-07-22     8355.0  4081.0  3051.0  3131.0  2922.0  2749.0  2319.0  2024.0\n",
      "2020-07-23     4882.0  2050.0  1876.0  1773.0  1468.0  1256.0  1053.0     NaN\n",
      "2020-07-24     3559.0  1744.0  1350.0  1113.0   964.0   790.0     NaN     NaN\n",
      "2020-07-25     3630.0  2059.0  1455.0  1100.0   904.0     NaN     NaN     NaN\n",
      "2020-07-26     2651.0  1584.0  1086.0   854.0     NaN     NaN     NaN     NaN\n",
      "2020-07-27     1836.0  1304.0   839.0     NaN     NaN     NaN     NaN     NaN\n",
      "2020-07-28     1188.0  1188.0     NaN     NaN     NaN     NaN     NaN     NaN\n"
     ]
    }
   ],
   "source": [
    "cohorted_data.reset_index(inplace=True)\n",
    "cohorted_data = cohorted_data.groupby(by='cohort')\n",
    "\n",
    "# assign appropriate day number w.r.t the cohort\n",
    "\n",
    "\n",
    "def assign_day_numbers(single_cohort):\n",
    "    '''\n",
    "    Given a cohort data frame, assign the day numbers\n",
    "    '''\n",
    "    single_cohort['date'] = list(range(1, len(single_cohort)+1))\n",
    "    single_cohort.rename(columns={'date': 'day'}, inplace=True)\n",
    "    return single_cohort\n",
    "\n",
    "\n",
    "cohorted_data = cohorted_data.apply(assign_day_numbers)  # returns a dataframe\n",
    "cohorted_data.index = pd.MultiIndex.from_frame(\n",
    "    cohorted_data[['cohort', 'day']])\n",
    "cohorted_data = cohorted_data[['user_count']]\n",
    "cohorted_data = cohorted_data.unstack(1)\n",
    "print(cohorted_data)"
   ]
  },
  {
   "cell_type": "markdown",
   "metadata": {},
   "source": [
    "## Normalize the table"
   ]
  },
  {
   "cell_type": "code",
   "execution_count": 7,
   "metadata": {},
   "outputs": [
    {
     "name": "stdout",
     "output_type": "stream",
     "text": [
      "day             1           2          3          4          5          6  \\\n",
      "cohort                                                                      \n",
      "2020-07-22  100.0   48.845003  36.517056  37.474566  34.973070  32.902454   \n",
      "2020-07-23  100.0   41.990987  38.426874  36.317083  30.069644  25.727161   \n",
      "2020-07-24  100.0   49.002529  37.932003  31.272829  27.086260  22.197246   \n",
      "2020-07-25  100.0   56.721763  40.082645  30.303030  24.903581        NaN   \n",
      "2020-07-26  100.0   59.751037  40.965673  32.214259        NaN        NaN   \n",
      "2020-07-27  100.0   71.023965  45.697168        NaN        NaN        NaN   \n",
      "2020-07-28  100.0  100.000000        NaN        NaN        NaN        NaN   \n",
      "\n",
      "day                 7          8  \n",
      "cohort                            \n",
      "2020-07-22  27.755835  24.225015  \n",
      "2020-07-23  21.569029        NaN  \n",
      "2020-07-24        NaN        NaN  \n",
      "2020-07-25        NaN        NaN  \n",
      "2020-07-26        NaN        NaN  \n",
      "2020-07-27        NaN        NaN  \n",
      "2020-07-28        NaN        NaN  \n"
     ]
    }
   ],
   "source": [
    "cohort_sizes = cohorted_data.loc[:, 'user_count'][1]\n",
    "normalized_table = cohorted_data['user_count'].div(cohort_sizes, axis=0)*100\n",
    "print(normalized_table)"
   ]
  },
  {
   "cell_type": "markdown",
   "metadata": {},
   "source": [
    "## Visualize the Data"
   ]
  },
  {
   "cell_type": "code",
   "execution_count": 8,
   "metadata": {},
   "outputs": [
    {
     "data": {
      "image/png": "[encoded data removed]",
      "text/plain": [
       "<Figure size 432x288 with 2 Axes>"
      ]
     },
     "metadata": {},
     "output_type": "display_data"
    }
   ],
   "source": [
    "sns.set(style='white')\n",
    "sns.heatmap(normalized_table, mask=normalized_table.isnull(),\n",
    "            annot=True, fmt='.0f', cmap='Blues')\n",
    "plt.show()"
   ]
  },
  {
   "cell_type": "code",
   "execution_count": null,
   "metadata": {},
   "outputs": [],
   "source": []
  }
 ],
 "metadata": {
  "kernelspec": {
   "display_name": "Python 3",
   "language": "python",
   "name": "python3"
  },
  "language_info": {
   "codemirror_mode": {
    "name": "ipython",
    "version": 3
   },
   "file_extension": ".py",
   "mimetype": "text/x-python",
   "name": "python",
   "nbconvert_exporter": "python",
   "pygments_lexer": "ipython3",
   "version": "3.6.9"
  }
 },
 "nbformat": 4,
 "nbformat_minor": 4
}

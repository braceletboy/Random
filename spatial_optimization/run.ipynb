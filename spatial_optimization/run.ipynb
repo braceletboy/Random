{
 "cells": [
  {
   "cell_type": "markdown",
   "metadata": {},
   "source": [
    "# Spatial Optimization"
   ]
  },
  {
   "cell_type": "code",
   "execution_count": 10,
   "metadata": {},
   "outputs": [],
   "source": [
    "import folium\n",
    "import pandas as pd\n",
    "import numpy as np\n",
    "import geopandas as gpd\n",
    "from pyproj import CRS\n",
    "from shapely.geometry import Point\n",
    "from sklearn.neighbors import KernelDensity\n",
    "from statsmodels.nonparametric.bandwidths import bw_silverman"
   ]
  },
  {
   "cell_type": "markdown",
   "metadata": {},
   "source": [
    "## Configure Parameters"
   ]
  },
  {
   "cell_type": "code",
   "execution_count": 11,
   "metadata": {},
   "outputs": [],
   "source": [
    "bus_stops_weight = 0.5\n",
    "hospitals_weight = 1.0\n",
    "restaurants_weight = 0.25\n",
    "num_bpoints = 5  # number of best points required"
   ]
  },
  {
   "cell_type": "markdown",
   "metadata": {},
   "source": [
    "## Load Data"
   ]
  },
  {
   "cell_type": "code",
   "execution_count": 12,
   "metadata": {},
   "outputs": [],
   "source": [
    "bus_stops_file = './bus_stops.csv'\n",
    "hospitals_file = './hospitals.csv'\n",
    "restaurants_file = './restaurants.csv'\n",
    "bus_stops_data = pd.read_csv(bus_stops_file)\n",
    "hospitals_data = pd.read_csv(hospitals_file)\n",
    "restaurants_data = pd.read_csv(restaurants_file)"
   ]
  },
  {
   "cell_type": "markdown",
   "metadata": {},
   "source": [
    "## Prepare Data"
   ]
  },
  {
   "cell_type": "code",
   "execution_count": 13,
   "metadata": {},
   "outputs": [
    {
     "data": {
      "text/html": [
       "<div>\n",
       "<style scoped>\n",
       "    .dataframe tbody tr th:only-of-type {\n",
       "        vertical-align: middle;\n",
       "    }\n",
       "\n",
       "    .dataframe tbody tr th {\n",
       "        vertical-align: top;\n",
       "    }\n",
       "\n",
       "    .dataframe thead th {\n",
       "        text-align: right;\n",
       "    }\n",
       "</style>\n",
       "<table border=\"1\" class=\"dataframe\">\n",
       "  <thead>\n",
       "    <tr style=\"text-align: right;\">\n",
       "      <th></th>\n",
       "      <th>id</th>\n",
       "      <th>latitude</th>\n",
       "      <th>longitude</th>\n",
       "      <th>weights</th>\n",
       "      <th>location_type</th>\n",
       "    </tr>\n",
       "  </thead>\n",
       "  <tbody>\n",
       "    <tr>\n",
       "      <th>0</th>\n",
       "      <td>d461dd24beb4b0ef4eb8f5251f14a133</td>\n",
       "      <td>12.955712</td>\n",
       "      <td>77.720346</td>\n",
       "      <td>0.5</td>\n",
       "      <td>bus_stop</td>\n",
       "    </tr>\n",
       "    <tr>\n",
       "      <th>1</th>\n",
       "      <td>567e9aa5e9849f42f6161bf6b73bd47c</td>\n",
       "      <td>12.846598</td>\n",
       "      <td>77.671565</td>\n",
       "      <td>0.5</td>\n",
       "      <td>bus_stop</td>\n",
       "    </tr>\n",
       "    <tr>\n",
       "      <th>2</th>\n",
       "      <td>cf2fd7e978ea8f70b790c931cb6c8ccf</td>\n",
       "      <td>12.939330</td>\n",
       "      <td>77.695316</td>\n",
       "      <td>0.5</td>\n",
       "      <td>bus_stop</td>\n",
       "    </tr>\n",
       "    <tr>\n",
       "      <th>3</th>\n",
       "      <td>ca41840db8acbbc8a10e6e4c69d91c36</td>\n",
       "      <td>12.951165</td>\n",
       "      <td>77.491945</td>\n",
       "      <td>0.5</td>\n",
       "      <td>bus_stop</td>\n",
       "    </tr>\n",
       "    <tr>\n",
       "      <th>4</th>\n",
       "      <td>219773e23e2d7659a5935bb63e75347f</td>\n",
       "      <td>13.197742</td>\n",
       "      <td>77.777031</td>\n",
       "      <td>0.5</td>\n",
       "      <td>bus_stop</td>\n",
       "    </tr>\n",
       "  </tbody>\n",
       "</table>\n",
       "</div>"
      ],
      "text/plain": [
       "                                 id   latitude  longitude  weights  \\\n",
       "0  d461dd24beb4b0ef4eb8f5251f14a133  12.955712  77.720346      0.5   \n",
       "1  567e9aa5e9849f42f6161bf6b73bd47c  12.846598  77.671565      0.5   \n",
       "2  cf2fd7e978ea8f70b790c931cb6c8ccf  12.939330  77.695316      0.5   \n",
       "3  ca41840db8acbbc8a10e6e4c69d91c36  12.951165  77.491945      0.5   \n",
       "4  219773e23e2d7659a5935bb63e75347f  13.197742  77.777031      0.5   \n",
       "\n",
       "  location_type  \n",
       "0      bus_stop  \n",
       "1      bus_stop  \n",
       "2      bus_stop  \n",
       "3      bus_stop  \n",
       "4      bus_stop  "
      ]
     },
     "metadata": {},
     "output_type": "display_data"
    }
   ],
   "source": [
    "bus_stops_data['weights'] = bus_stops_weight\n",
    "bus_stops_data['location_type'] = 'bus_stop'\n",
    "hospitals_data['weights'] = hospitals_weight\n",
    "hospitals_data['location_type'] = 'hospital'\n",
    "restaurants_data['weights'] = restaurants_weight\n",
    "restaurants_data['location_type'] = 'restaurant'\n",
    "datasets = [bus_stops_data, hospitals_data, restaurants_data]\n",
    "merged_data = pd.concat(datasets)\n",
    "weights = merged_data['weights']\n",
    "display(merged_data.head())"
   ]
  },
  {
   "cell_type": "markdown",
   "metadata": {},
   "source": [
    "## Kernel Density Estimation"
   ]
  },
  {
   "cell_type": "code",
   "execution_count": 14,
   "metadata": {},
   "outputs": [],
   "source": [
    "silverman_bandwidth = max(bw_silverman(\n",
    "    merged_data[['latitude', 'longitude']].to_numpy()))\n",
    "kde = KernelDensity(bandwidth=silverman_bandwidth,\n",
    "                    algorithm='ball_tree', metric='haversine')\n",
    "trained_estimator = kde.fit(\n",
    "    merged_data[['latitude', 'longitude']].to_numpy(), weights.to_numpy())"
   ]
  },
  {
   "cell_type": "markdown",
   "metadata": {},
   "source": [
    "## Finding Best Coordinates"
   ]
  },
  {
   "cell_type": "code",
   "execution_count": 15,
   "metadata": {},
   "outputs": [
    {
     "data": {
      "text/html": [
       "<div>\n",
       "<style scoped>\n",
       "    .dataframe tbody tr th:only-of-type {\n",
       "        vertical-align: middle;\n",
       "    }\n",
       "\n",
       "    .dataframe tbody tr th {\n",
       "        vertical-align: top;\n",
       "    }\n",
       "\n",
       "    .dataframe thead th {\n",
       "        text-align: right;\n",
       "    }\n",
       "</style>\n",
       "<table border=\"1\" class=\"dataframe\">\n",
       "  <thead>\n",
       "    <tr style=\"text-align: right;\">\n",
       "      <th></th>\n",
       "      <th>id</th>\n",
       "      <th>latitude</th>\n",
       "      <th>longitude</th>\n",
       "      <th>weights</th>\n",
       "      <th>location_type</th>\n",
       "    </tr>\n",
       "  </thead>\n",
       "  <tbody>\n",
       "    <tr>\n",
       "      <th>1</th>\n",
       "      <td>b135301eceaf851c9c7c3efbd4de5ec0</td>\n",
       "      <td>12.957070</td>\n",
       "      <td>77.567107</td>\n",
       "      <td>0.50</td>\n",
       "      <td>bus_stop</td>\n",
       "    </tr>\n",
       "    <tr>\n",
       "      <th>2</th>\n",
       "      <td>71f1c68856adbc9e1b25010a0d1a5415</td>\n",
       "      <td>12.957209</td>\n",
       "      <td>77.568077</td>\n",
       "      <td>0.50</td>\n",
       "      <td>bus_stop</td>\n",
       "    </tr>\n",
       "    <tr>\n",
       "      <th>3</th>\n",
       "      <td>bba72a25200bebff3f1543d3ca700a16f542c3f6</td>\n",
       "      <td>12.953921</td>\n",
       "      <td>77.568874</td>\n",
       "      <td>0.25</td>\n",
       "      <td>restaurant</td>\n",
       "    </tr>\n",
       "    <tr>\n",
       "      <th>4</th>\n",
       "      <td>99d2b60af8c8e1340de223d22b7d0f56</td>\n",
       "      <td>12.957195</td>\n",
       "      <td>77.568295</td>\n",
       "      <td>0.50</td>\n",
       "      <td>bus_stop</td>\n",
       "    </tr>\n",
       "    <tr>\n",
       "      <th>5</th>\n",
       "      <td>76ab28bae03e2d48037ae3cefd48565e</td>\n",
       "      <td>12.960405</td>\n",
       "      <td>77.567908</td>\n",
       "      <td>0.50</td>\n",
       "      <td>bus_stop</td>\n",
       "    </tr>\n",
       "  </tbody>\n",
       "</table>\n",
       "</div>"
      ],
      "text/plain": [
       "                                         id   latitude  longitude  weights  \\\n",
       "1          b135301eceaf851c9c7c3efbd4de5ec0  12.957070  77.567107     0.50   \n",
       "2          71f1c68856adbc9e1b25010a0d1a5415  12.957209  77.568077     0.50   \n",
       "3  bba72a25200bebff3f1543d3ca700a16f542c3f6  12.953921  77.568874     0.25   \n",
       "4          99d2b60af8c8e1340de223d22b7d0f56  12.957195  77.568295     0.50   \n",
       "5          76ab28bae03e2d48037ae3cefd48565e  12.960405  77.567908     0.50   \n",
       "\n",
       "  location_type  \n",
       "1      bus_stop  \n",
       "2      bus_stop  \n",
       "3    restaurant  \n",
       "4      bus_stop  \n",
       "5      bus_stop  "
      ]
     },
     "metadata": {},
     "output_type": "display_data"
    }
   ],
   "source": [
    "bpoint_indices = np.argsort(trained_estimator.score_samples(\n",
    "    merged_data[['latitude', 'longitude']].to_numpy()))[-num_bpoints:]\n",
    "bpoint_indices = np.flip(bpoint_indices)  # order descendingly\n",
    "best_locations = merged_data.iloc[bpoint_indices]\n",
    "best_locations.index = range(1, 6)  # show the ranks of the locations\n",
    "display(best_locations)"
   ]
  },
  {
   "cell_type": "markdown",
   "metadata": {},
   "source": [
    "## Visualization"
   ]
  },
  {
   "cell_type": "code",
   "execution_count": 16,
   "metadata": {},
   "outputs": [
    {
     "data": {
      "text/html": [
       "<div style=\"width:100%;\"><div style=\"position:relative;width:100%;height:0;padding-bottom:60%;\"><span style=\"color:#565656\">Make this Notebook Trusted to load map: File -> Trust Notebook</span><iframe src=\"about:blank\" style=\"position:absolute;width:100%;height:100%;left:0;top:0;border:none !important;\" data-html=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 onload=\"this.contentDocument.open();this.contentDocument.write(atob(this.getAttribute('data-html')));this.contentDocument.close();\" allowfullscreen webkitallowfullscreen mozallowfullscreen></iframe></div></div>"
      ],
      "text/plain": [
       "<folium.folium.Map at 0x7fca74172c50>"
      ]
     },
     "execution_count": 16,
     "metadata": {},
     "output_type": "execute_result"
    }
   ],
   "source": [
    "# convert locations to points ('x' is longitude and 'y' is latitude)\n",
    "best_points = [Point(location) for location in zip(\n",
    "    best_locations['longitude'], best_locations['latitude'])]\n",
    "gdf = gpd.GeoDataFrame({\n",
    "    'id': best_locations['id'].to_numpy(),\n",
    "    'location_type': best_locations['location_type'].to_numpy(),\n",
    "    'geometry': best_points\n",
    "})  # geo dataframe\n",
    "\n",
    "# set crs - coordinate reference system\n",
    "gdf.crs = CRS.from_epsg(4326)  # latitude longitude system\n",
    "# convert to mercator system because our map is a mercator map\n",
    "gdf.to_crs(CRS.from_epsg(3395), inplace=True)\n",
    "\n",
    "# map it\n",
    "map_plot = folium.Map(location=[\n",
    "    np.mean(best_locations['latitude'].to_numpy()),\n",
    "    np.mean(best_locations['longitude'].to_numpy())], zoom_start=14)\n",
    "points_gjson = folium.features.GeoJson(gdf['geometry'], name='best_locations')\n",
    "points_gjson.add_to(map_plot)\n",
    "map_plot"
   ]
  },
  {
   "cell_type": "code",
   "execution_count": null,
   "metadata": {},
   "outputs": [],
   "source": []
  }
 ],
 "metadata": {
  "kernelspec": {
   "display_name": "Python 3",
   "language": "python",
   "name": "python3"
  },
  "language_info": {
   "codemirror_mode": {
    "name": "ipython",
    "version": 3
   },
   "file_extension": ".py",
   "mimetype": "text/x-python",
   "name": "python",
   "nbconvert_exporter": "python",
   "pygments_lexer": "ipython3",
   "version": "3.6.9"
  }
 },
 "nbformat": 4,
 "nbformat_minor": 4
}

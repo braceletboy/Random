{
 "cells": [
  {
   "cell_type": "markdown",
   "metadata": {},
   "source": [
    "# Spatial Optimization"
   ]
  },
  {
   "cell_type": "code",
   "execution_count": 41,
   "metadata": {},
   "outputs": [],
   "source": [
    "import folium\n",
    "import pandas as pd\n",
    "import numpy as np\n",
    "import geopandas as gpd\n",
    "from pyproj import CRS\n",
    "from shapely.geometry import Point\n",
    "from sklearn.neighbors import KernelDensity\n",
    "from statsmodels.nonparametric.bandwidths import bw_silverman"
   ]
  },
  {
   "cell_type": "markdown",
   "metadata": {},
   "source": [
    "## Configure Parameters"
   ]
  },
  {
   "cell_type": "code",
   "execution_count": 42,
   "metadata": {},
   "outputs": [],
   "source": [
    "bus_stops_weight = 0.5\n",
    "hospitals_weight = 1.0\n",
    "restaurants_weight = 0.25\n",
    "num_bpoints = 5  # number of best points required"
   ]
  },
  {
   "cell_type": "markdown",
   "metadata": {},
   "source": [
    "## Load Data"
   ]
  },
  {
   "cell_type": "code",
   "execution_count": 43,
   "metadata": {},
   "outputs": [],
   "source": [
    "bus_stops_file = './bus_stops.csv'\n",
    "hospitals_file = './hospitals.csv'\n",
    "restaurants_file = './restaurants.csv'\n",
    "bus_stops_data = pd.read_csv(bus_stops_file)\n",
    "hospitals_data = pd.read_csv(hospitals_file)\n",
    "restaurants_data = pd.read_csv(restaurants_file)"
   ]
  },
  {
   "cell_type": "markdown",
   "metadata": {},
   "source": [
    "## Prepare Data"
   ]
  },
  {
   "cell_type": "code",
   "execution_count": 44,
   "metadata": {},
   "outputs": [
    {
     "data": {
      "text/html": [
       "<div>\n",
       "<style scoped>\n",
       "    .dataframe tbody tr th:only-of-type {\n",
       "        vertical-align: middle;\n",
       "    }\n",
       "\n",
       "    .dataframe tbody tr th {\n",
       "        vertical-align: top;\n",
       "    }\n",
       "\n",
       "    .dataframe thead th {\n",
       "        text-align: right;\n",
       "    }\n",
       "</style>\n",
       "<table border=\"1\" class=\"dataframe\">\n",
       "  <thead>\n",
       "    <tr style=\"text-align: right;\">\n",
       "      <th></th>\n",
       "      <th>id</th>\n",
       "      <th>latitude</th>\n",
       "      <th>longitude</th>\n",
       "      <th>weights</th>\n",
       "      <th>location_type</th>\n",
       "    </tr>\n",
       "  </thead>\n",
       "  <tbody>\n",
       "    <tr>\n",
       "      <th>0</th>\n",
       "      <td>d461dd24beb4b0ef4eb8f5251f14a133</td>\n",
       "      <td>0.226120</td>\n",
       "      <td>1.356476</td>\n",
       "      <td>0.5</td>\n",
       "      <td>bus_stop</td>\n",
       "    </tr>\n",
       "    <tr>\n",
       "      <th>1</th>\n",
       "      <td>567e9aa5e9849f42f6161bf6b73bd47c</td>\n",
       "      <td>0.224215</td>\n",
       "      <td>1.355625</td>\n",
       "      <td>0.5</td>\n",
       "      <td>bus_stop</td>\n",
       "    </tr>\n",
       "    <tr>\n",
       "      <th>2</th>\n",
       "      <td>cf2fd7e978ea8f70b790c931cb6c8ccf</td>\n",
       "      <td>0.225834</td>\n",
       "      <td>1.356039</td>\n",
       "      <td>0.5</td>\n",
       "      <td>bus_stop</td>\n",
       "    </tr>\n",
       "    <tr>\n",
       "      <th>3</th>\n",
       "      <td>ca41840db8acbbc8a10e6e4c69d91c36</td>\n",
       "      <td>0.226040</td>\n",
       "      <td>1.352490</td>\n",
       "      <td>0.5</td>\n",
       "      <td>bus_stop</td>\n",
       "    </tr>\n",
       "    <tr>\n",
       "      <th>4</th>\n",
       "      <td>219773e23e2d7659a5935bb63e75347f</td>\n",
       "      <td>0.230344</td>\n",
       "      <td>1.357465</td>\n",
       "      <td>0.5</td>\n",
       "      <td>bus_stop</td>\n",
       "    </tr>\n",
       "  </tbody>\n",
       "</table>\n",
       "</div>"
      ],
      "text/plain": [
       "                                 id  latitude  longitude  weights  \\\n",
       "0  d461dd24beb4b0ef4eb8f5251f14a133  0.226120   1.356476      0.5   \n",
       "1  567e9aa5e9849f42f6161bf6b73bd47c  0.224215   1.355625      0.5   \n",
       "2  cf2fd7e978ea8f70b790c931cb6c8ccf  0.225834   1.356039      0.5   \n",
       "3  ca41840db8acbbc8a10e6e4c69d91c36  0.226040   1.352490      0.5   \n",
       "4  219773e23e2d7659a5935bb63e75347f  0.230344   1.357465      0.5   \n",
       "\n",
       "  location_type  \n",
       "0      bus_stop  \n",
       "1      bus_stop  \n",
       "2      bus_stop  \n",
       "3      bus_stop  \n",
       "4      bus_stop  "
      ]
     },
     "metadata": {},
     "output_type": "display_data"
    }
   ],
   "source": [
    "bus_stops_data['weights'] = bus_stops_weight\n",
    "bus_stops_data['location_type'] = 'bus_stop'\n",
    "hospitals_data['weights'] = hospitals_weight\n",
    "hospitals_data['location_type'] = 'hospital'\n",
    "restaurants_data['weights'] = restaurants_weight\n",
    "restaurants_data['location_type'] = 'restaurant'\n",
    "datasets = [bus_stops_data, hospitals_data, restaurants_data]\n",
    "merged_data = pd.concat(datasets)\n",
    "\n",
    "# convert latitude and longitude from degrees to radians\n",
    "merged_data.loc[:, 'latitude'] = merged_data.loc[:, 'latitude']*np.pi/180\n",
    "merged_data.loc[:, 'longitude'] = merged_data.loc[:, 'longitude']*np.pi/180\n",
    "\n",
    "weights = merged_data['weights']\n",
    "display(merged_data.head())"
   ]
  },
  {
   "cell_type": "markdown",
   "metadata": {},
   "source": [
    "## Kernel Density Estimation"
   ]
  },
  {
   "cell_type": "code",
   "execution_count": 45,
   "metadata": {},
   "outputs": [],
   "source": [
    "silverman_bandwidth = max(bw_silverman(\n",
    "    merged_data[['latitude', 'longitude']].to_numpy()))\n",
    "kde = KernelDensity(bandwidth=silverman_bandwidth,\n",
    "                    algorithm='ball_tree', metric='haversine')\n",
    "trained_estimator = kde.fit(\n",
    "    merged_data[['latitude', 'longitude']].to_numpy(), weights.to_numpy())"
   ]
  },
  {
   "cell_type": "markdown",
   "metadata": {},
   "source": [
    "## Finding Best Coordinates"
   ]
  },
  {
   "cell_type": "code",
   "execution_count": 48,
   "metadata": {},
   "outputs": [
    {
     "name": "stderr",
     "output_type": "stream",
     "text": [
      "/home/braceletboy/.local/share/virtualenvs/Random-zvK-jQge/lib/python3.6/site-packages/pandas/core/indexing.py:1745: SettingWithCopyWarning: \n",
      "A value is trying to be set on a copy of a slice from a DataFrame.\n",
      "Try using .loc[row_indexer,col_indexer] = value instead\n",
      "\n",
      "See the caveats in the documentation: https://pandas.pydata.org/pandas-docs/stable/user_guide/indexing.html#returning-a-view-versus-a-copy\n",
      "  isetter(ilocs[0], value)\n"
     ]
    },
    {
     "data": {
      "text/html": [
       "<div>\n",
       "<style scoped>\n",
       "    .dataframe tbody tr th:only-of-type {\n",
       "        vertical-align: middle;\n",
       "    }\n",
       "\n",
       "    .dataframe tbody tr th {\n",
       "        vertical-align: top;\n",
       "    }\n",
       "\n",
       "    .dataframe thead th {\n",
       "        text-align: right;\n",
       "    }\n",
       "</style>\n",
       "<table border=\"1\" class=\"dataframe\">\n",
       "  <thead>\n",
       "    <tr style=\"text-align: right;\">\n",
       "      <th></th>\n",
       "      <th>id</th>\n",
       "      <th>latitude</th>\n",
       "      <th>longitude</th>\n",
       "      <th>weights</th>\n",
       "      <th>location_type</th>\n",
       "    </tr>\n",
       "  </thead>\n",
       "  <tbody>\n",
       "    <tr>\n",
       "      <th>1</th>\n",
       "      <td>c5a9e9be83c054fad5d40b489b14cf3b</td>\n",
       "      <td>12.948173</td>\n",
       "      <td>77.570592</td>\n",
       "      <td>0.50</td>\n",
       "      <td>bus_stop</td>\n",
       "    </tr>\n",
       "    <tr>\n",
       "      <th>2</th>\n",
       "      <td>06bf01c8147dc25380f0f74d571f6166cd4853d7</td>\n",
       "      <td>12.944839</td>\n",
       "      <td>77.571819</td>\n",
       "      <td>0.25</td>\n",
       "      <td>restaurant</td>\n",
       "    </tr>\n",
       "    <tr>\n",
       "      <th>3</th>\n",
       "      <td>3f2d7880c41532bb1d38b9e71462b5255d367313</td>\n",
       "      <td>12.948411</td>\n",
       "      <td>77.572026</td>\n",
       "      <td>1.00</td>\n",
       "      <td>hospital</td>\n",
       "    </tr>\n",
       "    <tr>\n",
       "      <th>4</th>\n",
       "      <td>677de0c10f058704c1f2b5a83fbe49c0fdd40d06</td>\n",
       "      <td>12.945072</td>\n",
       "      <td>77.571343</td>\n",
       "      <td>0.25</td>\n",
       "      <td>restaurant</td>\n",
       "    </tr>\n",
       "    <tr>\n",
       "      <th>5</th>\n",
       "      <td>95bb888c22be664fe4c47ce9f2acbe75367218d9</td>\n",
       "      <td>12.948033</td>\n",
       "      <td>77.568855</td>\n",
       "      <td>0.25</td>\n",
       "      <td>restaurant</td>\n",
       "    </tr>\n",
       "  </tbody>\n",
       "</table>\n",
       "</div>"
      ],
      "text/plain": [
       "                                         id   latitude  longitude  weights  \\\n",
       "1          c5a9e9be83c054fad5d40b489b14cf3b  12.948173  77.570592     0.50   \n",
       "2  06bf01c8147dc25380f0f74d571f6166cd4853d7  12.944839  77.571819     0.25   \n",
       "3  3f2d7880c41532bb1d38b9e71462b5255d367313  12.948411  77.572026     1.00   \n",
       "4  677de0c10f058704c1f2b5a83fbe49c0fdd40d06  12.945072  77.571343     0.25   \n",
       "5  95bb888c22be664fe4c47ce9f2acbe75367218d9  12.948033  77.568855     0.25   \n",
       "\n",
       "  location_type  \n",
       "1      bus_stop  \n",
       "2    restaurant  \n",
       "3      hospital  \n",
       "4    restaurant  \n",
       "5    restaurant  "
      ]
     },
     "metadata": {},
     "output_type": "display_data"
    }
   ],
   "source": [
    "bpoint_indices = np.argsort(trained_estimator.score_samples(\n",
    "    merged_data[['latitude', 'longitude']].to_numpy()))[-num_bpoints:]\n",
    "bpoint_indices = np.flip(bpoint_indices)  # order descendingly\n",
    "best_locations = merged_data.iloc[bpoint_indices]\n",
    "\n",
    "# convert latitude and longitude from radians to degrees\n",
    "best_locations.loc[:, 'latitude'] = best_locations.loc[:, 'latitude']*180/np.pi\n",
    "best_locations.loc[:, 'longitude'] = best_locations.loc[:,\n",
    "                                                        'longitude']*180/np.pi\n",
    "\n",
    "best_locations.index = range(1, 6)  # show the ranks of the locations\n",
    "display(best_locations)"
   ]
  },
  {
   "cell_type": "markdown",
   "metadata": {},
   "source": [
    "## Visualization"
   ]
  },
  {
   "cell_type": "code",
   "execution_count": 49,
   "metadata": {},
   "outputs": [
    {
     "data": {
      "text/html": [
       "<div style=\"width:100%;\"><div style=\"position:relative;width:100%;height:0;padding-bottom:60%;\"><span style=\"color:#565656\">Make this Notebook Trusted to load map: File -> Trust Notebook</span><iframe src=\"about:blank\" style=\"position:absolute;width:100%;height:100%;left:0;top:0;border:none !important;\" data-html=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 onload=\"this.contentDocument.open();this.contentDocument.write(atob(this.getAttribute('data-html')));this.contentDocument.close();\" allowfullscreen webkitallowfullscreen mozallowfullscreen></iframe></div></div>"
      ],
      "text/plain": [
       "<folium.folium.Map at 0x7f15800ad400>"
      ]
     },
     "execution_count": 49,
     "metadata": {},
     "output_type": "execute_result"
    }
   ],
   "source": [
    "# convert locations to points ('x' is longitude and 'y' is latitude)\n",
    "best_points = [Point(location) for location in zip(\n",
    "    best_locations['longitude'], best_locations['latitude'])]\n",
    "gdf = gpd.GeoDataFrame({\n",
    "    'id': best_locations['id'].to_numpy(),\n",
    "    'location_type': best_locations['location_type'].to_numpy(),\n",
    "    'geometry': best_points\n",
    "})  # geo dataframe\n",
    "\n",
    "# set crs - coordinate reference system\n",
    "gdf.crs = CRS.from_epsg(4326)  # latitude longitude system\n",
    "# convert to mercator system because our map is a mercator map\n",
    "gdf.to_crs(CRS.from_epsg(3395), inplace=True)\n",
    "\n",
    "# map it\n",
    "map_plot = folium.Map(location=[\n",
    "    np.mean(best_locations['latitude'].to_numpy()),\n",
    "    np.mean(best_locations['longitude'].to_numpy())], zoom_start=14)\n",
    "points_gjson = folium.features.GeoJson(gdf['geometry'], name='best_locations')\n",
    "points_gjson.add_to(map_plot)\n",
    "map_plot"
   ]
  },
  {
   "cell_type": "code",
   "execution_count": null,
   "metadata": {},
   "outputs": [],
   "source": []
  }
 ],
 "metadata": {
  "kernelspec": {
   "display_name": "Python 3",
   "language": "python",
   "name": "python3"
  },
  "language_info": {
   "codemirror_mode": {
    "name": "ipython",
    "version": 3
   },
   "file_extension": ".py",
   "mimetype": "text/x-python",
   "name": "python",
   "nbconvert_exporter": "python",
   "pygments_lexer": "ipython3",
   "version": "3.6.9"
  }
 },
 "nbformat": 4,
 "nbformat_minor": 4
}

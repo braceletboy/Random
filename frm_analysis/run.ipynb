{
 "cells": [
  {
   "cell_type": "markdown",
   "metadata": {},
   "source": [
    "\n",
    "# Field Relationship Manager - Distance Travelled"
   ]
  },
  {
   "cell_type": "code",
   "execution_count": 35,
   "metadata": {},
   "outputs": [],
   "source": [
    "import pandas as pd\n",
    "import numpy as np"
   ]
  },
  {
   "cell_type": "markdown",
   "metadata": {},
   "source": [
    "## Load and prepare Data"
   ]
  },
  {
   "cell_type": "code",
   "execution_count": 36,
   "metadata": {},
   "outputs": [],
   "source": [
    "datafile = './frm_locations.csv'\n",
    "frm_data = pd.read_csv(datafile)\n",
    "frm_data.rename(columns={'date': 'time_stamp', 'latitude': 'start_lat',\n",
    "                         'longitude': 'start_long'}, inplace=True)\n",
    "frm_data['date'] = frm_data['time_stamp'].apply(lambda x: x[:10])\n",
    "frm_data['time'] = frm_data['time_stamp'].apply(lambda x: x[11:19])\n",
    "frm_data = frm_data.groupby(['frm_id', 'date'])"
   ]
  },
  {
   "cell_type": "markdown",
   "metadata": {},
   "source": [
    "## Calculate Distance"
   ]
  },
  {
   "cell_type": "code",
   "execution_count": 37,
   "metadata": {},
   "outputs": [],
   "source": [
    "def calculate_distance(dataframe):\n",
    "    '''\n",
    "    Calculate the distance.\n",
    "    '''\n",
    "    # sort the values by time\n",
    "    dataframe.sort_values('time', inplace=True)\n",
    "\n",
    "    # find coordinates of each chord in the path\n",
    "    dataframe['end_lat'] = dataframe['start_lat'].shift(periods=-1)\n",
    "    dataframe['end_long'] = dataframe['start_long'].shift(periods=-1)\n",
    "    dataframe['end_lat'].iat[-1] = dataframe['start_lat'].iloc[-1]\n",
    "    dataframe['end_long'].iat[-1] = dataframe['start_long'].iloc[-1]\n",
    "    dataframe['diff_lat'] = (dataframe['start_lat'] - dataframe['end_lat'])/2\n",
    "    dataframe['diff_long'] = (dataframe['start_long'] - dataframe['end_long'])/2\n",
    "    \n",
    "    # calculate the distance for each chord in the path\n",
    "    earth_radius = 6371  # in kilometers\n",
    "    dataframe['chord_distance'] = ((dataframe['diff_lat'].apply(np.sin))**2 +\n",
    "                                           dataframe['start_lat'].apply(np.cos) *\n",
    "                                           dataframe['end_lat'].apply(np.cos) *\n",
    "                                           (dataframe['diff_long'].apply(np.sin))**2)\n",
    "    dataframe['chord_distance'] = 2*earth_radius*(dataframe['chord_distance'].apply(np.sqrt)).apply(np.arcsin)\n",
    "    return dataframe\n",
    "    \n",
    "frm_data = frm_data.apply(calculate_distance)  # returns dataframe\n",
    "frm_data.reset_index(drop=True, inplace=True)\n",
    "distance_dataframe = frm_data.loc[:, ['frm_id', 'date', 'chord_distance']]\n",
    "distance_dataframe.set_index(['frm_id', 'date'], inplace=True)\n",
    "\n",
    "# clean outliers\n",
    "upper_threshold = 10  # max movement is 10 kilometers\n",
    "lower_threshold = 0.001  # min movement is 1 meter\n",
    "distance_dataframe = distance_dataframe[distance_dataframe <= upper_threshold]\n",
    "distance_dataframe = distance_dataframe[distance_dataframe >= lower_threshold]\n",
    "\n",
    "# calculate total distance travelled\n",
    "distance_dataframe = distance_dataframe.groupby(by=['frm_id', 'date'])\n",
    "distance_dataframe = distance_dataframe.sum()  # returns dataframe\n",
    "distance_dataframe = distance_dataframe.unstack()['chord_distance']\n",
    "distance_dataframe.columns.name = None  # remove the column header name\n",
    "distance_dataframe.reset_index(inplace=True)"
   ]
  },
  {
   "cell_type": "markdown",
   "metadata": {},
   "source": [
    "## Visualization"
   ]
  },
  {
   "cell_type": "code",
   "execution_count": 38,
   "metadata": {},
   "outputs": [
    {
     "data": {
      "text/html": [
       "<div>\n",
       "<style scoped>\n",
       "    .dataframe tbody tr th:only-of-type {\n",
       "        vertical-align: middle;\n",
       "    }\n",
       "\n",
       "    .dataframe tbody tr th {\n",
       "        vertical-align: top;\n",
       "    }\n",
       "\n",
       "    .dataframe thead th {\n",
       "        text-align: right;\n",
       "    }\n",
       "</style>\n",
       "<table border=\"1\" class=\"dataframe\">\n",
       "  <thead>\n",
       "    <tr style=\"text-align: right;\">\n",
       "      <th></th>\n",
       "      <th>frm_id</th>\n",
       "      <th>2020-07-20</th>\n",
       "      <th>2020-07-21</th>\n",
       "      <th>2020-07-22</th>\n",
       "      <th>2020-07-23</th>\n",
       "      <th>2020-07-24</th>\n",
       "    </tr>\n",
       "  </thead>\n",
       "  <tbody>\n",
       "    <tr>\n",
       "      <th>0</th>\n",
       "      <td>753aa4603d9f9f250ffe7f63e77bac1c</td>\n",
       "      <td>46.720500</td>\n",
       "      <td>50.206429</td>\n",
       "      <td>30.853907</td>\n",
       "      <td>22.248766</td>\n",
       "      <td>25.973244</td>\n",
       "    </tr>\n",
       "    <tr>\n",
       "      <th>1</th>\n",
       "      <td>84a9427621fe0669fbacbe6d7dc25b3d</td>\n",
       "      <td>38.236306</td>\n",
       "      <td>57.809056</td>\n",
       "      <td>48.030754</td>\n",
       "      <td>25.498006</td>\n",
       "      <td>17.527965</td>\n",
       "    </tr>\n",
       "    <tr>\n",
       "      <th>2</th>\n",
       "      <td>ab472ecc61608f512e4b1d4c2b49e8f8</td>\n",
       "      <td>33.694254</td>\n",
       "      <td>26.712897</td>\n",
       "      <td>55.477270</td>\n",
       "      <td>7.992916</td>\n",
       "      <td>81.527247</td>\n",
       "    </tr>\n",
       "    <tr>\n",
       "      <th>3</th>\n",
       "      <td>b96dc9bb896edad075da09f0c4e9098c</td>\n",
       "      <td>90.746647</td>\n",
       "      <td>80.082138</td>\n",
       "      <td>145.985040</td>\n",
       "      <td>231.779679</td>\n",
       "      <td>56.245480</td>\n",
       "    </tr>\n",
       "    <tr>\n",
       "      <th>4</th>\n",
       "      <td>e89712a6621c47b9485e0b06841f809f</td>\n",
       "      <td>234.818667</td>\n",
       "      <td>183.467136</td>\n",
       "      <td>185.942358</td>\n",
       "      <td>141.973850</td>\n",
       "      <td>133.342832</td>\n",
       "    </tr>\n",
       "    <tr>\n",
       "      <th>5</th>\n",
       "      <td>f9a1994416db0f2255ef187f87c38638</td>\n",
       "      <td>2.388283</td>\n",
       "      <td>13.487773</td>\n",
       "      <td>23.130174</td>\n",
       "      <td>26.467072</td>\n",
       "      <td>27.935830</td>\n",
       "    </tr>\n",
       "  </tbody>\n",
       "</table>\n",
       "</div>"
      ],
      "text/plain": [
       "                             frm_id  2020-07-20  2020-07-21  2020-07-22  \\\n",
       "0  753aa4603d9f9f250ffe7f63e77bac1c   46.720500   50.206429   30.853907   \n",
       "1  84a9427621fe0669fbacbe6d7dc25b3d   38.236306   57.809056   48.030754   \n",
       "2  ab472ecc61608f512e4b1d4c2b49e8f8   33.694254   26.712897   55.477270   \n",
       "3  b96dc9bb896edad075da09f0c4e9098c   90.746647   80.082138  145.985040   \n",
       "4  e89712a6621c47b9485e0b06841f809f  234.818667  183.467136  185.942358   \n",
       "5  f9a1994416db0f2255ef187f87c38638    2.388283   13.487773   23.130174   \n",
       "\n",
       "   2020-07-23  2020-07-24  \n",
       "0   22.248766   25.973244  \n",
       "1   25.498006   17.527965  \n",
       "2    7.992916   81.527247  \n",
       "3  231.779679   56.245480  \n",
       "4  141.973850  133.342832  \n",
       "5   26.467072   27.935830  "
      ]
     },
     "metadata": {},
     "output_type": "display_data"
    }
   ],
   "source": [
    "display(distance_dataframe)"
   ]
  },
  {
   "cell_type": "code",
   "execution_count": null,
   "metadata": {},
   "outputs": [],
   "source": []
  }
 ],
 "metadata": {
  "kernelspec": {
   "display_name": "Python 3",
   "language": "python",
   "name": "python3"
  },
  "language_info": {
   "codemirror_mode": {
    "name": "ipython",
    "version": 3
   },
   "file_extension": ".py",
   "mimetype": "text/x-python",
   "name": "python",
   "nbconvert_exporter": "python",
   "pygments_lexer": "ipython3",
   "version": "3.6.9"
  }
 },
 "nbformat": 4,
 "nbformat_minor": 4
}
